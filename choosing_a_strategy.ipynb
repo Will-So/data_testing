{
 "cells": [
  {
   "cell_type": "markdown",
   "metadata": {},
   "source": [
    "I find testing data products much more difficult to test than other projects. This is largely due to the enormous amount of assumptions that are made when dealing with the data. The main idea behind testing Data Products\n",
    "\n",
    "There are a number of benefits to testing data products that make it worth the extra work. The two most important factors is that it makes assumptions explicit and makes it easy to find bugs. "
   ]
  },
  {
   "cell_type": "markdown",
   "metadata": {},
   "source": [
    "# An Example with Lending Club"
   ]
  },
  {
   "cell_type": "markdown",
   "metadata": {},
   "source": [
    "One of my previous projects, maximizing Lending Club returns is a good example of a data product. I use an offline and historical dataset to build models and validate the best ones and then \n",
    "\n",
    "The entire Data Product Looks something like this:\n",
    "\n",
    "// Diagram here. "
   ]
  },
  {
   "cell_type": "markdown",
   "metadata": {},
   "source": [
    "# Processing the Data"
   ]
  },
  {
   "cell_type": "markdown",
   "metadata": {},
   "source": [
    "# Modeling and Validation"
   ]
  },
  {
   "cell_type": "markdown",
   "metadata": {},
   "source": [
    "# Loading Data from different sources"
   ]
  },
  {
   "cell_type": "markdown",
   "metadata": {},
   "source": [
    "# Which Testing Platform to use?"
   ]
  },
  {
   "cell_type": "markdown",
   "metadata": {},
   "source": [
    "There are two different testing libraries we should consider-- Nose and py.test. Nose is a lot simpler and easier to debug whereas py.test is much less verbose than other testing libraries and makes it easy to test very quickly. The downside to py.test is that it diverges quite substantially from `unittest` so it needs to be learned. "
   ]
  },
  {
   "cell_type": "markdown",
   "metadata": {},
   "source": [
    "## Adding tests to legacy projects"
   ]
  },
  {
   "cell_type": "markdown",
   "metadata": {},
   "source": [
    "The easiest way to add a test to a legacy project is to add a test whenever we run into a bug or add a feature. "
   ]
  },
  {
   "cell_type": "markdown",
   "metadata": {},
   "source": [
    "## Example of a bad test"
   ]
  },
  {
   "cell_type": "markdown",
   "metadata": {},
   "source": [
    "## Example of a good test"
   ]
  },
  {
   "cell_type": "markdown",
   "metadata": {},
   "source": [
    "// Porbabilistic test\n",
    "// assumption about data shape\n",
    "// Testing a property rather than specific value\n",
    "// Test using hypothsis"
   ]
  }
 ],
 "metadata": {
  "kernelspec": {
   "display_name": "Python 3",
   "language": "python",
   "name": "python3"
  },
  "language_info": {
   "codemirror_mode": {
    "name": "ipython",
    "version": 3
   },
   "file_extension": ".py",
   "mimetype": "text/x-python",
   "name": "python",
   "nbconvert_exporter": "python",
   "pygments_lexer": "ipython3",
   "version": "3.4.3"
  }
 },
 "nbformat": 4,
 "nbformat_minor": 0
}
