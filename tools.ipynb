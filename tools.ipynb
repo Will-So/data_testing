{
 "cells": [
  {
   "cell_type": "markdown",
   "metadata": {},
   "source": [
    "There are a couple tools that make testing data products easier. My two favorites are [Engarde](http://engarde.readthedocs.org/en/latest/) and [Hypothesis](https://hypothesis.readthedocs.org/en/latest/). Hypothesis generates test data and makes it easy to find edge cases. Engarde makes it easy to test the properties of Pandas Dataframes."
   ]
  },
  {
   "cell_type": "markdown",
   "metadata": {},
   "source": [
    "# py.test"
   ]
  },
  {
   "cell_type": "markdown",
   "metadata": {},
   "source": [
    "py.test is probably the quickest way to write unit tests. "
   ]
  },
  {
   "cell_type": "markdown",
   "metadata": {},
   "source": [
    "# Hypothesis"
   ]
  },
  {
   "cell_type": "markdown",
   "metadata": {},
   "source": [
    "Hypothesis is especially useful in earlier projects because we may not have encountered any edge cases yet. Hypothesis makes it easy to find edge cases. "
   ]
  },
  {
   "cell_type": "markdown",
   "metadata": {},
   "source": [
    "## An Example"
   ]
  },
  {
   "cell_type": "markdown",
   "metadata": {},
   "source": [
    "I once got an error "
   ]
  },
  {
   "cell_type": "code",
   "execution_count": 6,
   "metadata": {
    "collapsed": false
   },
   "outputs": [],
   "source": [
    "from hypothesis import given, assume, example, strategies as st\n",
    "\n",
    "@given(col=st.floats())\n",
    "@example(col=0.0) # TEsted every time. \n",
    "def test_valid_inputs(col, df):\n",
    "    \"\"\"Verufues that \n",
    "    \"\"\"\n",
    "    assume(col >= 0)\n",
    "    assert(all(df['Payments/Income'] > 0)) # Payments/Income depends on annual_income.\n",
    "    "
   ]
  },
  {
   "cell_type": "markdown",
   "metadata": {},
   "source": [
    "The benefit of this is that we are making our assumptions explicit. We are assuming that the column we run the test function in "
   ]
  },
  {
   "cell_type": "markdown",
   "metadata": {},
   "source": [
    "# Engarde"
   ]
  },
  {
   "cell_type": "markdown",
   "metadata": {},
   "source": [
    "Engarde is a delightful test suite that I use throughout my tests. It only works with Pandas Dataframes. I recommend looking at the [Example](http://engarde.readthedocs.org/en/latest/example.html) in the documentation to get a good idea of how it works. I use it to:\n",
    "\n",
    "1. Check Datatypes\n",
    "2. Check df shapes\n",
    "3. Verify certain traits of the data (That certain percentages are less than 1)\n",
    "4. Is monotonic\n",
    "5. Verify data is not missing\n",
    "6. Check that there are no massive outliers\n",
    "7. Within a range"
   ]
  },
  {
   "cell_type": "code",
   "execution_count": null,
   "metadata": {
    "collapsed": true
   },
   "outputs": [],
   "source": []
  }
 ],
 "metadata": {
  "kernelspec": {
   "display_name": "Python 3",
   "language": "python",
   "name": "python3"
  },
  "language_info": {
   "codemirror_mode": {
    "name": "ipython",
    "version": 3
   },
   "file_extension": ".py",
   "mimetype": "text/x-python",
   "name": "python",
   "nbconvert_exporter": "python",
   "pygments_lexer": "ipython3",
   "version": "3.4.3"
  }
 },
 "nbformat": 4,
 "nbformat_minor": 0
}
