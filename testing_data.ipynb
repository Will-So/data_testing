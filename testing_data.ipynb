{
 "cells": [
  {
   "cell_type": "markdown",
   "metadata": {},
   "source": [
    "I find testing data products much more difficult to test than other projects. This is largely due to the enormous amount of assumptions that are made when dealing with the data. The main idea behind testing Data Products\n",
    "\n",
    "There are a number of benefits to testing data products that make it worth the extra work. The two most important factors is that it makes assumptions explicit and makes it easy to find bugs. "
   ]
  },
  {
   "cell_type": "markdown",
   "metadata": {},
   "source": [
    "# An Example with Lending Club"
   ]
  },
  {
   "cell_type": "markdown",
   "metadata": {},
   "source": [
    "One of my previous projects, maximizing Lending Club returns is a good example of a data product. I use an offline and historical dataset to build models and validate the best ones and then \n",
    "\n",
    "The entire Data Product Looks something like this:\n",
    "\n",
    "// Diagram here. "
   ]
  },
  {
   "cell_type": "markdown",
   "metadata": {},
   "source": [
    "# Processing the Data"
   ]
  },
  {
   "cell_type": "markdown",
   "metadata": {},
   "source": [
    "# Modeling and Validation"
   ]
  },
  {
   "cell_type": "markdown",
   "metadata": {},
   "source": [
    "# Loading Data from different sources"
   ]
  },
  {
   "cell_type": "markdown",
   "metadata": {},
   "source": [
    "# Which Testing Platform to use?"
   ]
  },
  {
   "cell_type": "markdown",
   "metadata": {},
   "source": [
    "There are two different testing libraries we should consider-- Nose and py.test. Nose is a lot simpler and easier to debug whereas py.test is much less verbose than other testing libraries and makes it easy to test very quickly. The downside to py.test is that it diverges quite substantially from `unittest` so it needs to be learned. "
   ]
  },
  {
   "cell_type": "markdown",
   "metadata": {},
   "source": [
    "## Adding tests to legacy projects"
   ]
  },
  {
   "cell_type": "markdown",
   "metadata": {},
   "source": [
    "The easiest way to add a test to a legacy project is to add a test whenever we run into a bug or add a feature. "
   ]
  },
  {
   "cell_type": "markdown",
   "metadata": {},
   "source": [
    "## Example of a bad test"
   ]
  },
  {
   "cell_type": "markdown",
   "metadata": {},
   "source": [
    "## Example of a good test"
   ]
  },
  {
   "cell_type": "markdown",
   "metadata": {},
   "source": [
    "// Porbabilistic test\n",
    "// assumption about data shape\n",
    "// Testing a property rather than specific value\n",
    "// Test using hypothsis"
   ]
  },
  {
   "cell_type": "markdown",
   "metadata": {},
   "source": [
    "## EnGarde"
   ]
  },
  {
   "cell_type": "markdown",
   "metadata": {},
   "source": [
    "This is a delightful test suite that I use throughout my tests. It only works with Pandas Dataframes. I recommend looking at the [Example](http://engarde.readthedocs.org/en/latest/example.html) in the documentation to get a good idea of how it works. I use it to:\n",
    "\n",
    "1. Check Datatypes\n",
    "2. Check df shapes\n",
    "3. Verify certain traits of the data (That certain percentages are less than 1)\n",
    "4. Is monotonic\n",
    "5. Verify data is not missing\n",
    "6. Check that there are no massive outliers\n",
    "7. Within a range"
   ]
  },
  {
   "cell_type": "markdown",
   "metadata": {},
   "source": [
    "## Hypothesis"
   ]
  },
  {
   "cell_type": "markdown",
   "metadata": {},
   "source": [
    "# Resources"
   ]
  },
  {
   "cell_type": "markdown",
   "metadata": {},
   "source": [
    "- http://feature-forge.readthedocs.org/\n",
    "- http://slides.com/treycausey/pydata2015#/\n",
    "- [Testing Non-deterministic Algorithms](https://www.quora.com/How-do-people-write-automated-tests-for-their-stochastic-algorithms)\n",
    "- http://engarde.readthedocs.org/en/latest/example.html\n",
    "- http://programmers.stackexchange.com/questions/127344/how-do-you-test-a-data-load\n",
    "- https://www.linkedin.com/pulse/data-science-test-driven-development-sam-savage"
   ]
  },
  {
   "cell_type": "code",
   "execution_count": null,
   "metadata": {},
   "outputs": [],
   "source": [
    ""
   ]
  }
 ],
 "metadata": {
  "kernelspec": {
   "display_name": "Python 3",
   "language": "python",
   "name": "python3"
  },
  "language_info": {
   "codemirror_mode": {
    "name": "ipython",
    "version": 3.0
   },
   "file_extension": ".py",
   "mimetype": "text/x-python",
   "name": "python",
   "nbconvert_exporter": "python",
   "pygments_lexer": "ipython3",
   "version": "3.4.3"
  }
 },
 "nbformat": 4,
 "nbformat_minor": 0
}